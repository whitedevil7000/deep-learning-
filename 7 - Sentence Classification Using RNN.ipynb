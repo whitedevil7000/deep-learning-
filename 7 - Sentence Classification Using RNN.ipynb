{
  "nbformat": 4,
  "nbformat_minor": 0,
  "metadata": {
    "colab": {
      "name": "7 - Sentence Classification Using RNN.ipynb",
      "provenance": [],
      "authorship_tag": "ABX9TyPKFVfI61WUA98RuNbdvl5d",
      "include_colab_link": true
    },
    "kernelspec": {
      "name": "python3",
      "display_name": "Python 3"
    },
    "language_info": {
      "name": "python"
    }
  },
  "cells": [
    {
      "cell_type": "markdown",
      "metadata": {
        "id": "view-in-github",
        "colab_type": "text"
      },
      "source": [
        "<a href=\"https://colab.research.google.com/github/livinNector/deep-learning-tools-lab/blob/main/7%20-%20Sentence%20Classification%20Using%20RNN.ipynb\" target=\"_parent\"><img src=\"https://colab.research.google.com/assets/colab-badge.svg\" alt=\"Open In Colab\"/></a>"
      ]
    },
    {
      "cell_type": "markdown",
      "source": [
        "# 7 - Document Classification Using RNN"
      ],
      "metadata": {
        "id": "6LnkP-PWvBN-"
      }
    },
    {
      "cell_type": "markdown",
      "source": [
        "References:\n",
        "- [RNN with keras](https://www.tensorflow.org/guide/keras/rnn)\n",
        "- [Text Classification using RNN](https://www.tensorflow.org/text/tutorials/text_classification_rnn)"
      ],
      "metadata": {
        "id": "q5flqwAJv99t"
      }
    },
    {
      "cell_type": "markdown",
      "source": [
        "## Dataset"
      ],
      "metadata": {
        "id": "mJ3vWYxKw9O-"
      }
    },
    {
      "cell_type": "markdown",
      "source": [
        "- Dataset Used : Imdb Movie Review dataset\n",
        "- Dataset Url : https://ai.stanford.edu/~amaas/data/sentiment/aclImdb_v1.tar.gz\n",
        "- Dataset Home Page: https://ai.stanford.edu/~amaas/data/sentiment"
      ],
      "metadata": {
        "id": "B-0rpdNnx_Pf"
      }
    },
    {
      "cell_type": "markdown",
      "source": [
        "## Importing the required modules"
      ],
      "metadata": {
        "id": "Z3vhCm5_bdIB"
      }
    },
    {
      "cell_type": "code",
      "source": [
        "import tensorflow as tf\n",
        "import numpy as np\n",
        "import matplotlib.pyplot as plt\n",
        "import os\n",
        "import re\n",
        "import shutil\n",
        "import string"
      ],
      "metadata": {
        "id": "Zo86H7NqbhHx"
      },
      "execution_count": 1,
      "outputs": []
    },
    {
      "cell_type": "markdown",
      "source": [
        "## Dataset"
      ],
      "metadata": {
        "id": "recoIGKAgIcF"
      }
    },
    {
      "cell_type": "markdown",
      "source": [
        "### Downloading the dataset "
      ],
      "metadata": {
        "id": "lt_oMUN-cBb2"
      }
    },
    {
      "cell_type": "markdown",
      "source": [
        "- Dataset: Imdb Large Movie Review Dataset v1.0 \n",
        "- Home Page : https://ai.stanford.edu/~amaas/data/sentiment/\n",
        "- Dataset URL : https://ai.stanford.edu/~amaas/data/sentiment/aclImdb_v1.tar.gz"
      ],
      "metadata": {
        "id": "X5-Dng2ucPtq"
      }
    },
    {
      "cell_type": "code",
      "source": [
        "url = \"https://ai.stanford.edu/~amaas/data/sentiment/aclImdb_v1.tar.gz\"\n",
        "\n",
        "dataset = tf.keras.utils.get_file(\n",
        "    \"aclImdb_v1\", url,\n",
        "    untar=True, cache_dir='.',\n",
        "    cache_subdir=''\n",
        ")\n",
        "\n",
        "dataset_dir = os.path.join(os.path.dirname(dataset), 'aclImdb')\n"
      ],
      "metadata": {
        "id": "y5lbithLcRSR"
      },
      "execution_count": 2,
      "outputs": []
    },
    {
      "cell_type": "markdown",
      "source": [
        "### Exploring the dataset directory"
      ],
      "metadata": {
        "id": "ZQqwkhlcc4Cd"
      }
    },
    {
      "cell_type": "code",
      "source": [
        "os.listdir(dataset_dir)"
      ],
      "metadata": {
        "colab": {
          "base_uri": "https://localhost:8080/"
        },
        "id": "WdsJr12zc6Rm",
        "outputId": "1277e0f8-d4b7-4725-92f2-aee85ac94e57"
      },
      "execution_count": 3,
      "outputs": [
        {
          "output_type": "execute_result",
          "data": {
            "text/plain": [
              "['test', 'README', 'imdbEr.txt', 'train', 'imdb.vocab']"
            ]
          },
          "metadata": {},
          "execution_count": 3
        }
      ]
    },
    {
      "cell_type": "code",
      "source": [
        "train_dir = os.path.join(dataset_dir,\"train\")\n",
        "os.listdir(train_dir)"
      ],
      "metadata": {
        "colab": {
          "base_uri": "https://localhost:8080/"
        },
        "id": "esSEyuDCdl5s",
        "outputId": "2b64247c-0b84-40a8-84b2-7c8441c96c4b"
      },
      "execution_count": 4,
      "outputs": [
        {
          "output_type": "execute_result",
          "data": {
            "text/plain": [
              "['neg',\n",
              " 'unsupBow.feat',\n",
              " 'urls_neg.txt',\n",
              " 'unsup',\n",
              " 'urls_unsup.txt',\n",
              " 'urls_pos.txt',\n",
              " 'pos',\n",
              " 'labeledBow.feat']"
            ]
          },
          "metadata": {},
          "execution_count": 4
        }
      ]
    },
    {
      "cell_type": "markdown",
      "source": [
        "Here `pos` and `neg` are the folders containing positive and negative reviews.\n",
        "\n"
      ],
      "metadata": {
        "id": "JrV6GAMseC2V"
      }
    },
    {
      "cell_type": "markdown",
      "source": [
        "### Removing unwanted folders from training folder"
      ],
      "metadata": {
        "id": "pwTuaZ7MgQi7"
      }
    },
    {
      "cell_type": "markdown",
      "source": [
        "`unsup` contains data for unsupervised learning which is not needed for this exercise. so we remove that using `shutil.rmtree()`"
      ],
      "metadata": {
        "id": "QlVXlhOAgYpT"
      }
    },
    {
      "cell_type": "code",
      "source": [
        "shutil.rmtree(os.path.join(train_dir,\"unsup\"))"
      ],
      "metadata": {
        "id": "K8zcOZdpd7ki"
      },
      "execution_count": 5,
      "outputs": []
    },
    {
      "cell_type": "markdown",
      "source": [
        "### Loading the dataset"
      ],
      "metadata": {
        "id": "jZ2d_5-6e6nh"
      }
    },
    {
      "cell_type": "code",
      "source": [
        "batch_size = 128\n",
        "seed = 42\n",
        "\n",
        "raw_train_ds = tf.keras.utils.text_dataset_from_directory(\n",
        "    'aclImdb/train', \n",
        "    batch_size=batch_size, \n",
        "    validation_split=0.2, \n",
        "    subset='training', \n",
        "    seed=seed)"
      ],
      "metadata": {
        "colab": {
          "base_uri": "https://localhost:8080/"
        },
        "id": "LQk9TCWUfPuz",
        "outputId": "2b7eeb40-27e3-4752-fcc4-eb6540a9e03d"
      },
      "execution_count": 6,
      "outputs": [
        {
          "output_type": "stream",
          "name": "stdout",
          "text": [
            "Found 25000 files belonging to 2 classes.\n",
            "Using 20000 files for training.\n"
          ]
        }
      ]
    },
    {
      "cell_type": "code",
      "source": [
        "raw_val_ds = tf.keras.utils.text_dataset_from_directory(\n",
        "    'aclImdb/train', \n",
        "    batch_size=batch_size, \n",
        "    validation_split=0.2, \n",
        "    subset='validation', \n",
        "    seed=seed)"
      ],
      "metadata": {
        "colab": {
          "base_uri": "https://localhost:8080/"
        },
        "id": "GQvx6SI9g1rR",
        "outputId": "1296445a-c3db-4b7f-abe2-8c9331069b44"
      },
      "execution_count": 7,
      "outputs": [
        {
          "output_type": "stream",
          "name": "stdout",
          "text": [
            "Found 25000 files belonging to 2 classes.\n",
            "Using 5000 files for validation.\n"
          ]
        }
      ]
    },
    {
      "cell_type": "code",
      "source": [
        "raw_test_ds = tf.keras.utils.text_dataset_from_directory(\n",
        "    'aclImdb/test', \n",
        "    batch_size=batch_size)"
      ],
      "metadata": {
        "colab": {
          "base_uri": "https://localhost:8080/"
        },
        "id": "LrrWVRE4g2OB",
        "outputId": "fa868dda-13c2-4dc5-e0fb-9e1f1176805a"
      },
      "execution_count": 8,
      "outputs": [
        {
          "output_type": "stream",
          "name": "stdout",
          "text": [
            "Found 25000 files belonging to 2 classes.\n"
          ]
        }
      ]
    },
    {
      "cell_type": "code",
      "source": [
        "AUTOTUNE = tf.data.AUTOTUNE\n",
        "\n",
        "train_ds = raw_train_ds.cache().prefetch(buffer_size=AUTOTUNE)\n",
        "val_ds = raw_val_ds.cache().prefetch(buffer_size=AUTOTUNE)\n",
        "test_ds = raw_test_ds.cache().prefetch(buffer_size=AUTOTUNE)"
      ],
      "metadata": {
        "id": "pkkgKzkop62e"
      },
      "execution_count": 9,
      "outputs": []
    },
    {
      "cell_type": "markdown",
      "source": [
        "## Preprocessing the text"
      ],
      "metadata": {
        "id": "ofoJ1-yCgDbe"
      }
    },
    {
      "cell_type": "markdown",
      "source": [
        "### Standardization Function"
      ],
      "metadata": {
        "id": "XOEK9hx7hmAW"
      }
    },
    {
      "cell_type": "code",
      "source": [
        "def custom_standardization(input_data):\n",
        "    lowercase = tf.strings.lower(input_data)\n",
        "    stripped_html = tf.strings.regex_replace(lowercase, '<br />', ' ')\n",
        "    return tf.strings.regex_replace(\n",
        "        stripped_html,\n",
        "        f'[{re.escape(string.punctuation)}]',\n",
        "        ''\n",
        "    )"
      ],
      "metadata": {
        "id": "OVdcJFvuhpj1"
      },
      "execution_count": 10,
      "outputs": []
    },
    {
      "cell_type": "markdown",
      "source": [
        "### Text Vectorization"
      ],
      "metadata": {
        "id": "7Lm1d8EviUoo"
      }
    },
    {
      "cell_type": "markdown",
      "source": [
        "- Create a `TextVectorization` layer with the `custom_standardization` function\n",
        "- Adapt it with the training data\n",
        "- Create a function that applies vectorization only to the text in the dataset so that it can be mapped to the dataset\n"
      ],
      "metadata": {
        "id": "KXAF9X2WijpN"
      }
    },
    {
      "cell_type": "code",
      "source": [
        "max_features = 10000\n",
        "sequence_length = 250\n",
        "\n",
        "vectorize_layer = tf.keras.layers.TextVectorization(\n",
        "    standardize=custom_standardization,\n",
        "    max_tokens=max_features,\n",
        "    output_mode='int',\n",
        "    output_sequence_length=sequence_length)\n",
        "vectorize_layer.adapt(raw_train_ds.map(lambda x, y: x))"
      ],
      "metadata": {
        "id": "lFGWSE2MiXkg"
      },
      "execution_count": 16,
      "outputs": []
    },
    {
      "cell_type": "markdown",
      "source": [
        "## Creating the Model"
      ],
      "metadata": {
        "id": "J94G16x38a1Y"
      }
    },
    {
      "cell_type": "code",
      "source": [
        "model = tf.keras.Sequential([\n",
        "    vectorize_layer,\n",
        "    tf.keras.layers.Embedding(\n",
        "        input_dim=len(vectorize_layer.get_vocabulary()),\n",
        "        output_dim=64,\n",
        "        # Use masking to handle the variable sequence lengths\n",
        "        mask_zero=True),\n",
        "    tf.keras.layers.Bidirectional(tf.keras.layers.LSTM(64,return_sequences=True)),\n",
        "    tf.keras.layers.Bidirectional(tf.keras.layers.LSTM(32)),\n",
        "    tf.keras.layers.Dense(64, activation='relu'),\n",
        "    tf.keras.layers.Dense(1)\n",
        "])\n"
      ],
      "metadata": {
        "id": "oSUAOVED169l"
      },
      "execution_count": 17,
      "outputs": []
    },
    {
      "cell_type": "code",
      "source": [
        "model.compile(loss=tf.keras.losses.BinaryCrossentropy(from_logits=True),\n",
        "              optimizer=tf.keras.optimizers.Adam(1e-4),\n",
        "              metrics=['accuracy'])"
      ],
      "metadata": {
        "id": "mxCo7RO36HHG"
      },
      "execution_count": 18,
      "outputs": []
    },
    {
      "cell_type": "code",
      "source": [
        "model.summary()"
      ],
      "metadata": {
        "colab": {
          "base_uri": "https://localhost:8080/"
        },
        "id": "Jh4UlTF964nE",
        "outputId": "dd9fd815-5c5a-42d2-eb15-bc15398a52b3"
      },
      "execution_count": 19,
      "outputs": [
        {
          "output_type": "stream",
          "name": "stdout",
          "text": [
            "Model: \"sequential_1\"\n",
            "_________________________________________________________________\n",
            " Layer (type)                Output Shape              Param #   \n",
            "=================================================================\n",
            " text_vectorization_1 (TextV  (None, 250)              0         \n",
            " ectorization)                                                   \n",
            "                                                                 \n",
            " embedding_1 (Embedding)     (None, 250, 64)           640000    \n",
            "                                                                 \n",
            " bidirectional_2 (Bidirectio  (None, 250, 128)         66048     \n",
            " nal)                                                            \n",
            "                                                                 \n",
            " bidirectional_3 (Bidirectio  (None, 64)               41216     \n",
            " nal)                                                            \n",
            "                                                                 \n",
            " dense_2 (Dense)             (None, 64)                4160      \n",
            "                                                                 \n",
            " dense_3 (Dense)             (None, 1)                 65        \n",
            "                                                                 \n",
            "=================================================================\n",
            "Total params: 751,489\n",
            "Trainable params: 751,489\n",
            "Non-trainable params: 0\n",
            "_________________________________________________________________\n"
          ]
        }
      ]
    },
    {
      "cell_type": "code",
      "source": [
        "history = model.fit(train_ds, epochs=10,\n",
        "                    validation_data=val_ds,\n",
        "                    validation_steps=30)\n"
      ],
      "metadata": {
        "colab": {
          "base_uri": "https://localhost:8080/"
        },
        "id": "-t5s_q0w66BP",
        "outputId": "930bee4e-6a1e-488a-cb7a-fad25030ddc8"
      },
      "execution_count": 20,
      "outputs": [
        {
          "output_type": "stream",
          "name": "stdout",
          "text": [
            "Epoch 1/10\n",
            "157/157 [==============================] - 214s 1s/step - loss: 0.6844 - accuracy: 0.5127 - val_loss: 0.5949 - val_accuracy: 0.6773\n",
            "Epoch 2/10\n",
            "157/157 [==============================] - 194s 1s/step - loss: 0.4138 - accuracy: 0.8120 - val_loss: 0.3435 - val_accuracy: 0.8557\n",
            "Epoch 3/10\n",
            "157/157 [==============================] - 194s 1s/step - loss: 0.2697 - accuracy: 0.8926 - val_loss: 0.3085 - val_accuracy: 0.8669\n",
            "Epoch 4/10\n",
            "157/157 [==============================] - 194s 1s/step - loss: 0.2107 - accuracy: 0.9236 - val_loss: 0.3206 - val_accuracy: 0.8693\n",
            "Epoch 5/10\n",
            "157/157 [==============================] - 193s 1s/step - loss: 0.1814 - accuracy: 0.9370 - val_loss: 0.3400 - val_accuracy: 0.8727\n",
            "Epoch 6/10\n",
            "157/157 [==============================] - 193s 1s/step - loss: 0.1681 - accuracy: 0.9396 - val_loss: 0.4017 - val_accuracy: 0.8573\n",
            "Epoch 7/10\n",
            "157/157 [==============================] - 192s 1s/step - loss: 0.1521 - accuracy: 0.9481 - val_loss: 0.4422 - val_accuracy: 0.8513\n",
            "Epoch 8/10\n",
            "157/157 [==============================] - 192s 1s/step - loss: 0.1357 - accuracy: 0.9542 - val_loss: 0.5814 - val_accuracy: 0.8036\n",
            "Epoch 9/10\n",
            "157/157 [==============================] - 193s 1s/step - loss: 0.1469 - accuracy: 0.9499 - val_loss: 0.3377 - val_accuracy: 0.8714\n",
            "Epoch 10/10\n",
            "157/157 [==============================] - 193s 1s/step - loss: 0.1235 - accuracy: 0.9611 - val_loss: 0.3213 - val_accuracy: 0.8622\n"
          ]
        }
      ]
    },
    {
      "cell_type": "code",
      "source": [
        "def plot_graphs(history, metric):\n",
        "  plt.plot(history.history[metric])\n",
        "  plt.plot(history.history['val_'+metric], '')\n",
        "  plt.xlabel(\"Epochs\")\n",
        "  plt.ylabel(metric)\n",
        "  plt.legend([metric, 'val_'+metric])"
      ],
      "metadata": {
        "id": "WH9pOKqHwtDK"
      },
      "execution_count": 21,
      "outputs": []
    },
    {
      "cell_type": "code",
      "source": [
        "plt.figure(figsize=(10, 5))\n",
        "plt.subplot(1, 2, 1)\n",
        "plot_graphs(history, 'accuracy')\n",
        "plt.ylim(None, 1)\n",
        "plt.subplot(1, 2, 2)\n",
        "plot_graphs(history, 'loss')\n",
        "plt.ylim(0, None)\n",
        "plt.show()\n"
      ],
      "metadata": {
        "colab": {
          "base_uri": "https://localhost:8080/",
          "height": 338
        },
        "id": "1a5q4Y_D7Opr",
        "outputId": "4fdc8fba-49a7-440b-a252-e7df18f7e26d"
      },
      "execution_count": 22,
      "outputs": [
        {
          "output_type": "display_data",
          "data": {
            "text/plain": [
              "<Figure size 720x360 with 2 Axes>"
            ],
            "image/png": "[encoded data removed]"
          },
          "metadata": {
            "needs_background": "light"
          }
        }
      ]
    },
    {
      "cell_type": "markdown",
      "source": [
        "## Evaluating the model"
      ],
      "metadata": {
        "id": "5fZ0xiupCGLP"
      }
    },
    {
      "cell_type": "code",
      "source": [
        "test_loss, test_acc = model.evaluate(test_ds)\n",
        "\n",
        "print('Test Loss:', test_loss)\n",
        "print('Test Accuracy:', test_acc)\n"
      ],
      "metadata": {
        "colab": {
          "base_uri": "https://localhost:8080/"
        },
        "id": "dGfyHDb5BkeN",
        "outputId": "fdaed3b2-c6dd-4f1e-b29b-1285bdbd7728"
      },
      "execution_count": 23,
      "outputs": [
        {
          "output_type": "stream",
          "name": "stdout",
          "text": [
            "196/196 [==============================] - 69s 349ms/step - loss: 0.3627 - accuracy: 0.8426\n",
            "Test Loss: 0.36270952224731445\n",
            "Test Accuracy: 0.8426399827003479\n"
          ]
        }
      ]
    },
    {
      "cell_type": "markdown",
      "source": [
        "## Sample Predictions"
      ],
      "metadata": {
        "id": "UCi0lHDNEXVt"
      }
    },
    {
      "cell_type": "code",
      "source": [
        "import numpy as np"
      ],
      "metadata": {
        "id": "JH_waIzUCVd4"
      },
      "execution_count": 24,
      "outputs": []
    },
    {
      "cell_type": "code",
      "source": [
        "samples = np.array([\n",
        "  'The movie was awesome, wonderful and amazing.',\n",
        "  \"The Movies is the bad and waste of time.\"              \n",
        "])\n",
        "predictions = model.predict(samples)"
      ],
      "metadata": {
        "id": "tIoxho8KCKCc"
      },
      "execution_count": 25,
      "outputs": []
    },
    {
      "cell_type": "code",
      "source": [
        "predictions"
      ],
      "metadata": {
        "colab": {
          "base_uri": "https://localhost:8080/"
        },
        "id": "aAdd711TCYKT",
        "outputId": "1be28a5e-8634-4cfc-d17c-334bd6790a3b"
      },
      "execution_count": 26,
      "outputs": [
        {
          "output_type": "execute_result",
          "data": {
            "text/plain": [
              "array([[ 1.3299981],\n",
              "       [-1.356227 ]], dtype=float32)"
            ]
          },
          "metadata": {},
          "execution_count": 26
        }
      ]
    }
  ]
}
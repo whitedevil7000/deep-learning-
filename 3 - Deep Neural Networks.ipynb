{
  "nbformat": 4,
  "nbformat_minor": 0,
  "metadata": {
    "colab": {
      "name": "3 - Deep Neural Networks.ipynb",
      "provenance": [],
      "collapsed_sections": [],
      "authorship_tag": "ABX9TyPLkn+Z+UnxovuCofVxf6BZ",
      "include_colab_link": true
    },
    "kernelspec": {
      "name": "python3",
      "display_name": "Python 3"
    },
    "language_info": {
      "name": "python"
    }
  },
  "cells": [
    {
      "cell_type": "markdown",
      "metadata": {
        "id": "view-in-github",
        "colab_type": "text"
      },
      "source": [
        "<a href=\"https://colab.research.google.com/github/livinNector/deep-learning-tools-lab/blob/main/3%20-%20Deep%20Neural%20Networks.ipynb\" target=\"_parent\"><img src=\"https://colab.research.google.com/assets/colab-badge.svg\" alt=\"Open In Colab\"/></a>"
      ]
    },
    {
      "cell_type": "markdown",
      "source": [
        "# 3 - Deep Neural Networks"
      ],
      "metadata": {
        "id": "Hy5B8pkrDTRr"
      }
    },
    {
      "cell_type": "markdown",
      "source": [
        "## Classification using Deep Neural Networks"
      ],
      "metadata": {
        "id": "OTi3EhvxDgTT"
      }
    },
    {
      "cell_type": "code",
      "source": [
        "import tensorflow as tf\n",
        "import pandas as pd\n",
        "import numpy as np\n",
        "import matplotlib.pyplot as plt"
      ],
      "metadata": {
        "id": "J0WwKHQcErMt"
      },
      "execution_count": 1,
      "outputs": []
    },
    {
      "cell_type": "markdown",
      "source": [
        "### Dataset Used"
      ],
      "metadata": {
        "id": "wfUDdYtHD59_"
      }
    },
    {
      "cell_type": "markdown",
      "source": [
        "Titanic Dataset : https://www.tensorflow.org/datasets/catalog/titanic"
      ],
      "metadata": {
        "id": "V9BD_qXnEBPu"
      }
    },
    {
      "cell_type": "markdown",
      "source": [
        "### Loading Dataset"
      ],
      "metadata": {
        "id": "YnZ10qV2ElSi"
      }
    },
    {
      "cell_type": "code",
      "source": [
        "titanic_file_path = tf.keras.utils.get_file(\"train.csv\", \"https://storage.googleapis.com/tf-datasets/titanic/train.csv\")"
      ],
      "metadata": {
        "id": "PrVtyXnAFViS"
      },
      "execution_count": 2,
      "outputs": []
    },
    {
      "cell_type": "code",
      "source": [
        "df = pd.read_csv(titanic_file_path)"
      ],
      "metadata": {
        "id": "HeqLJHjHrHVV"
      },
      "execution_count": 3,
      "outputs": []
    },
    {
      "cell_type": "code",
      "source": [
        "df.head()"
      ],
      "metadata": {
        "colab": {
          "base_uri": "https://localhost:8080/",
          "height": 206
        },
        "id": "d9mehFbmrJiQ",
        "outputId": "9f30a56d-fa0e-47d8-b339-71bd321a69b7"
      },
      "execution_count": 4,
      "outputs": [
        {
          "output_type": "execute_result",
          "data": {
            "text/plain": [
              "   survived     sex   age  n_siblings_spouses  parch     fare  class     deck  \\\n",
              "0         0    male  22.0                   1      0   7.2500  Third  unknown   \n",
              "1         1  female  38.0                   1      0  71.2833  First        C   \n",
              "2         1  female  26.0                   0      0   7.9250  Third  unknown   \n",
              "3         1  female  35.0                   1      0  53.1000  First        C   \n",
              "4         0    male  28.0                   0      0   8.4583  Third  unknown   \n",
              "\n",
              "   embark_town alone  \n",
              "0  Southampton     n  \n",
              "1    Cherbourg     n  \n",
              "2  Southampton     y  \n",
              "3  Southampton     n  \n",
              "4   Queenstown     y  "
            ],
            "text/html": [
              "\n",
              "  <div id=\"df-62a93c9d-dfc4-457d-a893-4bd0f9b519f7\">\n",
              "    <div class=\"colab-df-container\">\n",
              "      <div>\n",
              "<style scoped>\n",
              "    .dataframe tbody tr th:only-of-type {\n",
              "        vertical-align: middle;\n",
              "    }\n",
              "\n",
              "    .dataframe tbody tr th {\n",
              "        vertical-align: top;\n",
              "    }\n",
              "\n",
              "    .dataframe thead th {\n",
              "        text-align: right;\n",
              "    }\n",
              "</style>\n",
              "<table border=\"1\" class=\"dataframe\">\n",
              "  <thead>\n",
              "    <tr style=\"text-align: right;\">\n",
              "      <th></th>\n",
              "      <th>survived</th>\n",
              "      <th>sex</th>\n",
              "      <th>age</th>\n",
              "      <th>n_siblings_spouses</th>\n",
              "      <th>parch</th>\n",
              "      <th>fare</th>\n",
              "      <th>class</th>\n",
              "      <th>deck</th>\n",
              "      <th>embark_town</th>\n",
              "      <th>alone</th>\n",
              "    </tr>\n",
              "  </thead>\n",
              "  <tbody>\n",
              "    <tr>\n",
              "      <th>0</th>\n",
              "      <td>0</td>\n",
              "      <td>male</td>\n",
              "      <td>22.0</td>\n",
              "      <td>1</td>\n",
              "      <td>0</td>\n",
              "      <td>7.2500</td>\n",
              "      <td>Third</td>\n",
              "      <td>unknown</td>\n",
              "      <td>Southampton</td>\n",
              "      <td>n</td>\n",
              "    </tr>\n",
              "    <tr>\n",
              "      <th>1</th>\n",
              "      <td>1</td>\n",
              "      <td>female</td>\n",
              "      <td>38.0</td>\n",
              "      <td>1</td>\n",
              "      <td>0</td>\n",
              "      <td>71.2833</td>\n",
              "      <td>First</td>\n",
              "      <td>C</td>\n",
              "      <td>Cherbourg</td>\n",
              "      <td>n</td>\n",
              "    </tr>\n",
              "    <tr>\n",
              "      <th>2</th>\n",
              "      <td>1</td>\n",
              "      <td>female</td>\n",
              "      <td>26.0</td>\n",
              "      <td>0</td>\n",
              "      <td>0</td>\n",
              "      <td>7.9250</td>\n",
              "      <td>Third</td>\n",
              "      <td>unknown</td>\n",
              "      <td>Southampton</td>\n",
              "      <td>y</td>\n",
              "    </tr>\n",
              "    <tr>\n",
              "      <th>3</th>\n",
              "      <td>1</td>\n",
              "      <td>female</td>\n",
              "      <td>35.0</td>\n",
              "      <td>1</td>\n",
              "      <td>0</td>\n",
              "      <td>53.1000</td>\n",
              "      <td>First</td>\n",
              "      <td>C</td>\n",
              "      <td>Southampton</td>\n",
              "      <td>n</td>\n",
              "    </tr>\n",
              "    <tr>\n",
              "      <th>4</th>\n",
              "      <td>0</td>\n",
              "      <td>male</td>\n",
              "      <td>28.0</td>\n",
              "      <td>0</td>\n",
              "      <td>0</td>\n",
              "      <td>8.4583</td>\n",
              "      <td>Third</td>\n",
              "      <td>unknown</td>\n",
              "      <td>Queenstown</td>\n",
              "      <td>y</td>\n",
              "    </tr>\n",
              "  </tbody>\n",
              "</table>\n",
              "</div>\n",
              "      <button class=\"colab-df-convert\" onclick=\"convertToInteractive('df-62a93c9d-dfc4-457d-a893-4bd0f9b519f7')\"\n",
              "              title=\"Convert this dataframe to an interactive table.\"\n",
              "              style=\"display:none;\">\n",
              "        \n",
              "  <svg xmlns=\"http://www.w3.org/2000/svg\" height=\"24px\"viewBox=\"0 0 24 24\"\n",
              "       width=\"24px\">\n",
              "    <path d=\"M0 0h24v24H0V0z\" fill=\"none\"/>\n",
              "    <path d=\"M18.56 5.44l.94 2.06.94-2.06 2.06-.94-2.06-.94-.94-2.06-.94 2.06-2.06.94zm-11 1L8.5 8.5l.94-2.06 2.06-.94-2.06-.94L8.5 2.5l-.94 2.06-2.06.94zm10 10l.94 2.06.94-2.06 2.06-.94-2.06-.94-.94-2.06-.94 2.06-2.06.94z\"/><path d=\"M17.41 7.96l-1.37-1.37c-.4-.4-.92-.59-1.43-.59-.52 0-1.04.2-1.43.59L10.3 9.45l-7.72 7.72c-.78.78-.78 2.05 0 2.83L4 21.41c.39.39.9.59 1.41.59.51 0 1.02-.2 1.41-.59l7.78-7.78 2.81-2.81c.8-.78.8-2.07 0-2.86zM5.41 20L4 18.59l7.72-7.72 1.47 1.35L5.41 20z\"/>\n",
              "  </svg>\n",
              "      </button>\n",
              "      \n",
              "  <style>\n",
              "    .colab-df-container {\n",
              "      display:flex;\n",
              "      flex-wrap:wrap;\n",
              "      gap: 12px;\n",
              "    }\n",
              "\n",
              "    .colab-df-convert {\n",
              "      background-color: #E8F0FE;\n",
              "      border: none;\n",
              "      border-radius: 50%;\n",
              "      cursor: pointer;\n",
              "      display: none;\n",
              "      fill: #1967D2;\n",
              "      height: 32px;\n",
              "      padding: 0 0 0 0;\n",
              "      width: 32px;\n",
              "    }\n",
              "\n",
              "    .colab-df-convert:hover {\n",
              "      background-color: #E2EBFA;\n",
              "      box-shadow: 0px 1px 2px rgba(60, 64, 67, 0.3), 0px 1px 3px 1px rgba(60, 64, 67, 0.15);\n",
              "      fill: #174EA6;\n",
              "    }\n",
              "\n",
              "    [theme=dark] .colab-df-convert {\n",
              "      background-color: #3B4455;\n",
              "      fill: #D2E3FC;\n",
              "    }\n",
              "\n",
              "    [theme=dark] .colab-df-convert:hover {\n",
              "      background-color: #434B5C;\n",
              "      box-shadow: 0px 1px 3px 1px rgba(0, 0, 0, 0.15);\n",
              "      filter: drop-shadow(0px 1px 2px rgba(0, 0, 0, 0.3));\n",
              "      fill: #FFFFFF;\n",
              "    }\n",
              "  </style>\n",
              "\n",
              "      <script>\n",
              "        const buttonEl =\n",
              "          document.querySelector('#df-62a93c9d-dfc4-457d-a893-4bd0f9b519f7 button.colab-df-convert');\n",
              "        buttonEl.style.display =\n",
              "          google.colab.kernel.accessAllowed ? 'block' : 'none';\n",
              "\n",
              "        async function convertToInteractive(key) {\n",
              "          const element = document.querySelector('#df-62a93c9d-dfc4-457d-a893-4bd0f9b519f7');\n",
              "          const dataTable =\n",
              "            await google.colab.kernel.invokeFunction('convertToInteractive',\n",
              "                                                     [key], {});\n",
              "          if (!dataTable) return;\n",
              "\n",
              "          const docLinkHtml = 'Like what you see? Visit the ' +\n",
              "            '<a target=\"_blank\" href=https://colab.research.google.com/notebooks/data_table.ipynb>data table notebook</a>'\n",
              "            + ' to learn more about interactive tables.';\n",
              "          element.innerHTML = '';\n",
              "          dataTable['output_type'] = 'display_data';\n",
              "          await google.colab.output.renderOutput(dataTable, element);\n",
              "          const docLink = document.createElement('div');\n",
              "          docLink.innerHTML = docLinkHtml;\n",
              "          element.appendChild(docLink);\n",
              "        }\n",
              "      </script>\n",
              "    </div>\n",
              "  </div>\n",
              "  "
            ]
          },
          "metadata": {},
          "execution_count": 4
        }
      ]
    },
    {
      "cell_type": "code",
      "source": [
        "df.rename(columns = {\"survived\":\"target\"},inplace=True)"
      ],
      "metadata": {
        "id": "YmsM_U_OrOZU"
      },
      "execution_count": 5,
      "outputs": []
    },
    {
      "cell_type": "code",
      "source": [
        "np.random.seed(5)\n",
        "train, val, test = np.split(df.sample(frac=1), [int(0.8*len(df)), int(0.9*len(df))])"
      ],
      "metadata": {
        "id": "A-FUlowmsYjC"
      },
      "execution_count": 6,
      "outputs": []
    },
    {
      "cell_type": "code",
      "source": [
        "train"
      ],
      "metadata": {
        "colab": {
          "base_uri": "https://localhost:8080/",
          "height": 424
        },
        "id": "KtRkbAjnsjoT",
        "outputId": "36e38313-b85f-4d37-d195-ec053a9d58a5"
      },
      "execution_count": 7,
      "outputs": [
        {
          "output_type": "execute_result",
          "data": {
            "text/plain": [
              "     target     sex   age  n_siblings_spouses  parch      fare   class  \\\n",
              "445       0    male  57.0                   0      0   12.3500  Second   \n",
              "230       1  female  31.0                   0      2  164.8667   First   \n",
              "289       1    male  39.0                   0      0    7.9250   Third   \n",
              "622       0    male  28.0                   0      0   10.5000  Second   \n",
              "361       0  female  37.0                   0      0    9.5875   Third   \n",
              "..      ...     ...   ...                 ...    ...       ...     ...   \n",
              "572       0    male  35.0                   0      0   10.5000  Second   \n",
              "54        0    male  26.0                   2      0    8.6625   Third   \n",
              "19        0    male  28.0                   0      0    7.2250   Third   \n",
              "609       1  female  27.0                   1      0   13.8583  Second   \n",
              "178       0    male  22.0                   0      0    7.1250   Third   \n",
              "\n",
              "        deck  embark_town alone  \n",
              "445  unknown   Queenstown     y  \n",
              "230        C  Southampton     n  \n",
              "289  unknown  Southampton     y  \n",
              "622  unknown  Southampton     y  \n",
              "361  unknown  Southampton     y  \n",
              "..       ...          ...   ...  \n",
              "572  unknown  Southampton     y  \n",
              "54   unknown  Southampton     n  \n",
              "19   unknown    Cherbourg     y  \n",
              "609  unknown    Cherbourg     n  \n",
              "178  unknown  Southampton     y  \n",
              "\n",
              "[501 rows x 10 columns]"
            ],
            "text/html": [
              "\n",
              "  <div id=\"df-8d4146c6-b577-4583-bc1d-156eb4342b6f\">\n",
              "    <div class=\"colab-df-container\">\n",
              "      <div>\n",
              "<style scoped>\n",
              "    .dataframe tbody tr th:only-of-type {\n",
              "        vertical-align: middle;\n",
              "    }\n",
              "\n",
              "    .dataframe tbody tr th {\n",
              "        vertical-align: top;\n",
              "    }\n",
              "\n",
              "    .dataframe thead th {\n",
              "        text-align: right;\n",
              "    }\n",
              "</style>\n",
              "<table border=\"1\" class=\"dataframe\">\n",
              "  <thead>\n",
              "    <tr style=\"text-align: right;\">\n",
              "      <th></th>\n",
              "      <th>target</th>\n",
              "      <th>sex</th>\n",
              "      <th>age</th>\n",
              "      <th>n_siblings_spouses</th>\n",
              "      <th>parch</th>\n",
              "      <th>fare</th>\n",
              "      <th>class</th>\n",
              "      <th>deck</th>\n",
              "      <th>embark_town</th>\n",
              "      <th>alone</th>\n",
              "    </tr>\n",
              "  </thead>\n",
              "  <tbody>\n",
              "    <tr>\n",
              "      <th>445</th>\n",
              "      <td>0</td>\n",
              "      <td>male</td>\n",
              "      <td>57.0</td>\n",
              "      <td>0</td>\n",
              "      <td>0</td>\n",
              "      <td>12.3500</td>\n",
              "      <td>Second</td>\n",
              "      <td>unknown</td>\n",
              "      <td>Queenstown</td>\n",
              "      <td>y</td>\n",
              "    </tr>\n",
              "    <tr>\n",
              "      <th>230</th>\n",
              "      <td>1</td>\n",
              "      <td>female</td>\n",
              "      <td>31.0</td>\n",
              "      <td>0</td>\n",
              "      <td>2</td>\n",
              "      <td>164.8667</td>\n",
              "      <td>First</td>\n",
              "      <td>C</td>\n",
              "      <td>Southampton</td>\n",
              "      <td>n</td>\n",
              "    </tr>\n",
              "    <tr>\n",
              "      <th>289</th>\n",
              "      <td>1</td>\n",
              "      <td>male</td>\n",
              "      <td>39.0</td>\n",
              "      <td>0</td>\n",
              "      <td>0</td>\n",
              "      <td>7.9250</td>\n",
              "      <td>Third</td>\n",
              "      <td>unknown</td>\n",
              "      <td>Southampton</td>\n",
              "      <td>y</td>\n",
              "    </tr>\n",
              "    <tr>\n",
              "      <th>622</th>\n",
              "      <td>0</td>\n",
              "      <td>male</td>\n",
              "      <td>28.0</td>\n",
              "      <td>0</td>\n",
              "      <td>0</td>\n",
              "      <td>10.5000</td>\n",
              "      <td>Second</td>\n",
              "      <td>unknown</td>\n",
              "      <td>Southampton</td>\n",
              "      <td>y</td>\n",
              "    </tr>\n",
              "    <tr>\n",
              "      <th>361</th>\n",
              "      <td>0</td>\n",
              "      <td>female</td>\n",
              "      <td>37.0</td>\n",
              "      <td>0</td>\n",
              "      <td>0</td>\n",
              "      <td>9.5875</td>\n",
              "      <td>Third</td>\n",
              "      <td>unknown</td>\n",
              "      <td>Southampton</td>\n",
              "      <td>y</td>\n",
              "    </tr>\n",
              "    <tr>\n",
              "      <th>...</th>\n",
              "      <td>...</td>\n",
              "      <td>...</td>\n",
              "      <td>...</td>\n",
              "      <td>...</td>\n",
              "      <td>...</td>\n",
              "      <td>...</td>\n",
              "      <td>...</td>\n",
              "      <td>...</td>\n",
              "      <td>...</td>\n",
              "      <td>...</td>\n",
              "    </tr>\n",
              "    <tr>\n",
              "      <th>572</th>\n",
              "      <td>0</td>\n",
              "      <td>male</td>\n",
              "      <td>35.0</td>\n",
              "      <td>0</td>\n",
              "      <td>0</td>\n",
              "      <td>10.5000</td>\n",
              "      <td>Second</td>\n",
              "      <td>unknown</td>\n",
              "      <td>Southampton</td>\n",
              "      <td>y</td>\n",
              "    </tr>\n",
              "    <tr>\n",
              "      <th>54</th>\n",
              "      <td>0</td>\n",
              "      <td>male</td>\n",
              "      <td>26.0</td>\n",
              "      <td>2</td>\n",
              "      <td>0</td>\n",
              "      <td>8.6625</td>\n",
              "      <td>Third</td>\n",
              "      <td>unknown</td>\n",
              "      <td>Southampton</td>\n",
              "      <td>n</td>\n",
              "    </tr>\n",
              "    <tr>\n",
              "      <th>19</th>\n",
              "      <td>0</td>\n",
              "      <td>male</td>\n",
              "      <td>28.0</td>\n",
              "      <td>0</td>\n",
              "      <td>0</td>\n",
              "      <td>7.2250</td>\n",
              "      <td>Third</td>\n",
              "      <td>unknown</td>\n",
              "      <td>Cherbourg</td>\n",
              "      <td>y</td>\n",
              "    </tr>\n",
              "    <tr>\n",
              "      <th>609</th>\n",
              "      <td>1</td>\n",
              "      <td>female</td>\n",
              "      <td>27.0</td>\n",
              "      <td>1</td>\n",
              "      <td>0</td>\n",
              "      <td>13.8583</td>\n",
              "      <td>Second</td>\n",
              "      <td>unknown</td>\n",
              "      <td>Cherbourg</td>\n",
              "      <td>n</td>\n",
              "    </tr>\n",
              "    <tr>\n",
              "      <th>178</th>\n",
              "      <td>0</td>\n",
              "      <td>male</td>\n",
              "      <td>22.0</td>\n",
              "      <td>0</td>\n",
              "      <td>0</td>\n",
              "      <td>7.1250</td>\n",
              "      <td>Third</td>\n",
              "      <td>unknown</td>\n",
              "      <td>Southampton</td>\n",
              "      <td>y</td>\n",
              "    </tr>\n",
              "  </tbody>\n",
              "</table>\n",
              "<p>501 rows × 10 columns</p>\n",
              "</div>\n",
              "      <button class=\"colab-df-convert\" onclick=\"convertToInteractive('df-8d4146c6-b577-4583-bc1d-156eb4342b6f')\"\n",
              "              title=\"Convert this dataframe to an interactive table.\"\n",
              "              style=\"display:none;\">\n",
              "        \n",
              "  <svg xmlns=\"http://www.w3.org/2000/svg\" height=\"24px\"viewBox=\"0 0 24 24\"\n",
              "       width=\"24px\">\n",
              "    <path d=\"M0 0h24v24H0V0z\" fill=\"none\"/>\n",
              "    <path d=\"M18.56 5.44l.94 2.06.94-2.06 2.06-.94-2.06-.94-.94-2.06-.94 2.06-2.06.94zm-11 1L8.5 8.5l.94-2.06 2.06-.94-2.06-.94L8.5 2.5l-.94 2.06-2.06.94zm10 10l.94 2.06.94-2.06 2.06-.94-2.06-.94-.94-2.06-.94 2.06-2.06.94z\"/><path d=\"M17.41 7.96l-1.37-1.37c-.4-.4-.92-.59-1.43-.59-.52 0-1.04.2-1.43.59L10.3 9.45l-7.72 7.72c-.78.78-.78 2.05 0 2.83L4 21.41c.39.39.9.59 1.41.59.51 0 1.02-.2 1.41-.59l7.78-7.78 2.81-2.81c.8-.78.8-2.07 0-2.86zM5.41 20L4 18.59l7.72-7.72 1.47 1.35L5.41 20z\"/>\n",
              "  </svg>\n",
              "      </button>\n",
              "      \n",
              "  <style>\n",
              "    .colab-df-container {\n",
              "      display:flex;\n",
              "      flex-wrap:wrap;\n",
              "      gap: 12px;\n",
              "    }\n",
              "\n",
              "    .colab-df-convert {\n",
              "      background-color: #E8F0FE;\n",
              "      border: none;\n",
              "      border-radius: 50%;\n",
              "      cursor: pointer;\n",
              "      display: none;\n",
              "      fill: #1967D2;\n",
              "      height: 32px;\n",
              "      padding: 0 0 0 0;\n",
              "      width: 32px;\n",
              "    }\n",
              "\n",
              "    .colab-df-convert:hover {\n",
              "      background-color: #E2EBFA;\n",
              "      box-shadow: 0px 1px 2px rgba(60, 64, 67, 0.3), 0px 1px 3px 1px rgba(60, 64, 67, 0.15);\n",
              "      fill: #174EA6;\n",
              "    }\n",
              "\n",
              "    [theme=dark] .colab-df-convert {\n",
              "      background-color: #3B4455;\n",
              "      fill: #D2E3FC;\n",
              "    }\n",
              "\n",
              "    [theme=dark] .colab-df-convert:hover {\n",
              "      background-color: #434B5C;\n",
              "      box-shadow: 0px 1px 3px 1px rgba(0, 0, 0, 0.15);\n",
              "      filter: drop-shadow(0px 1px 2px rgba(0, 0, 0, 0.3));\n",
              "      fill: #FFFFFF;\n",
              "    }\n",
              "  </style>\n",
              "\n",
              "      <script>\n",
              "        const buttonEl =\n",
              "          document.querySelector('#df-8d4146c6-b577-4583-bc1d-156eb4342b6f button.colab-df-convert');\n",
              "        buttonEl.style.display =\n",
              "          google.colab.kernel.accessAllowed ? 'block' : 'none';\n",
              "\n",
              "        async function convertToInteractive(key) {\n",
              "          const element = document.querySelector('#df-8d4146c6-b577-4583-bc1d-156eb4342b6f');\n",
              "          const dataTable =\n",
              "            await google.colab.kernel.invokeFunction('convertToInteractive',\n",
              "                                                     [key], {});\n",
              "          if (!dataTable) return;\n",
              "\n",
              "          const docLinkHtml = 'Like what you see? Visit the ' +\n",
              "            '<a target=\"_blank\" href=https://colab.research.google.com/notebooks/data_table.ipynb>data table notebook</a>'\n",
              "            + ' to learn more about interactive tables.';\n",
              "          element.innerHTML = '';\n",
              "          dataTable['output_type'] = 'display_data';\n",
              "          await google.colab.output.renderOutput(dataTable, element);\n",
              "          const docLink = document.createElement('div');\n",
              "          docLink.innerHTML = docLinkHtml;\n",
              "          element.appendChild(docLink);\n",
              "        }\n",
              "      </script>\n",
              "    </div>\n",
              "  </div>\n",
              "  "
            ]
          },
          "metadata": {},
          "execution_count": 7
        }
      ]
    },
    {
      "cell_type": "code",
      "source": [
        "def df_to_dataset(dataframe, shuffle=True, batch_size=32):\n",
        "  df = dataframe.copy()\n",
        "  labels = df.pop('target')\n",
        "  df = {key: value.values[:,tf.newaxis] for key, value in dataframe.items()}\n",
        "  ds = tf.data.Dataset.from_tensor_slices((dict(df), labels))\n",
        "  if shuffle:\n",
        "    ds = ds.shuffle(buffer_size=len(dataframe))\n",
        "  ds = ds.batch(batch_size)\n",
        "  ds = ds.prefetch(batch_size)\n",
        "  return ds"
      ],
      "metadata": {
        "id": "tXBvXTObmHul"
      },
      "execution_count": 8,
      "outputs": []
    },
    {
      "cell_type": "code",
      "source": [
        "batch_size = 10\n",
        "train_ds = df_to_dataset(train, batch_size=batch_size)\n",
        "val_ds = df_to_dataset(val, batch_size=batch_size)\n",
        "test_ds = df_to_dataset(test, batch_size=batch_size)"
      ],
      "metadata": {
        "id": "fKqfXjvDsP1d"
      },
      "execution_count": 9,
      "outputs": []
    },
    {
      "cell_type": "markdown",
      "source": [
        "### Preprocessing the dataset"
      ],
      "metadata": {
        "id": "UpWegJf6GiMx"
      }
    },
    {
      "cell_type": "markdown",
      "source": [
        "References:\n",
        "1. Classifying Structured data using keras preprocessing layers - https://www.tensorflow.org/tutorials/structured_data/preprocessing_layers\n",
        "2. keras preprocessing layers - https://www.tensorflow.org/guide/keras/preprocessing_layers\n",
        "\n",
        "The titanic dataset is preprocessed using the following keras preprocessing layers:\n",
        "- `tf.keras.layers.Normalization`\n",
        "- `tf.keras.layers.CategoryEncoding`\n",
        "- `tf.keras.layers.StringLookup`\n",
        "- `tf.keras.layers.IntegerLookup`\n",
        "\n",
        "\n"
      ],
      "metadata": {
        "id": "sBOtOwmlGrha"
      }
    },
    {
      "cell_type": "code",
      "source": [
        "def get_normalization_layer(name, dataset):\n",
        "  # Create a Normalization layer for the feature.\n",
        "  normalizer = tf.keras.layers.Normalization(axis=None)\n",
        "\n",
        "  # Prepare a Dataset that only yields the feature.\n",
        "  feature_ds = dataset.map(lambda x, y: x[name])\n",
        "\n",
        "  # Learn the statistics of the data.\n",
        "  normalizer.adapt(feature_ds)\n",
        "\n",
        "  return normalizer\n"
      ],
      "metadata": {
        "id": "VKapMftwG7Ad"
      },
      "execution_count": 10,
      "outputs": []
    },
    {
      "cell_type": "code",
      "source": [
        "def get_category_encoding_layer(name, dataset, dtype, max_tokens=None):\n",
        "  # Create a layer that turns strings into integer indices.\n",
        "  if dtype == 'string':\n",
        "    index = tf.keras.layers.StringLookup(max_tokens=max_tokens)\n",
        "  # Otherwise, create a layer that turns integer values into integer indices.\n",
        "  else:\n",
        "    index = tf.keras.layers.IntegerLookup(max_tokens=max_tokens)\n",
        "\n",
        "  # Prepare a `tf.data.Dataset` that only yields the feature.\n",
        "  feature_ds = dataset.map(lambda x, y: x[name])\n",
        "\n",
        "  # Learn the set of possible values and assign them a fixed integer index.\n",
        "  index.adapt(feature_ds)\n",
        "\n",
        "  # Encode the integer indices.\n",
        "  encoder = tf.keras.layers.CategoryEncoding(num_tokens=index.vocabulary_size())\n",
        "\n",
        "  # Apply multi-hot encoding to the indices. The lambda function captures the\n",
        "  # layer, so you can use them, or include them in the Keras Functional model later.\n",
        "  return lambda feature: encoder(index(feature))\n"
      ],
      "metadata": {
        "id": "9F_fL-pKlvG4"
      },
      "execution_count": 11,
      "outputs": []
    },
    {
      "cell_type": "code",
      "source": [
        "numerical_cols = [\"age\",\"fare\"]\n",
        "numerical_categorical_cols = [\"n_siblings_spouses\",\"parch\"]\n",
        "categorical_cols = [\"sex\",\"class\",\"deck\",\"embark_town\",\"alone\"]\n",
        "\n",
        "all_inputs = []\n",
        "encoded_features = []\n",
        "\n",
        "# Numerical features.\n",
        "for header in numerical_cols:\n",
        "  numeric_col = tf.keras.Input(shape=(1,), name=header)\n",
        "  normalization_layer = get_normalization_layer(header, train_ds) # Normalization\n",
        "  encoded_numeric_col = normalization_layer(numeric_col)\n",
        "  all_inputs.append(numeric_col)\n",
        "  encoded_features.append(encoded_numeric_col)\n",
        "\n",
        "# Numerical Categorial features\n",
        "for header in numerical_categorical_cols:\n",
        "  categorical_col = tf.keras.Input(shape=(1,), name=header, dtype='int64')\n",
        "  encoding_layer = get_category_encoding_layer(name=header,dataset=train_ds,dtype='int64') # encoding\n",
        "  encoded_categorical_col = encoding_layer(categorical_col)\n",
        "  all_inputs.append(categorical_col)\n",
        "  encoded_features.append(encoded_categorical_col)\n",
        "\n",
        "# Other categorical Features\n",
        "for header in categorical_cols:\n",
        "  categorical_col = tf.keras.Input(shape=(1,), name=header, dtype='string')\n",
        "  encoding_layer = get_category_encoding_layer(name=header,dataset=train_ds,dtype='string',max_tokens=5) # encoding\n",
        "  encoded_categorical_col = encoding_layer(categorical_col)\n",
        "  all_inputs.append(categorical_col)\n",
        "  encoded_features.append(encoded_categorical_col)\n"
      ],
      "metadata": {
        "id": "rtqf0Y3FoRri"
      },
      "execution_count": 12,
      "outputs": []
    },
    {
      "cell_type": "markdown",
      "source": [
        "### Creating the model"
      ],
      "metadata": {
        "id": "XIDkFIZgwb9J"
      }
    },
    {
      "cell_type": "code",
      "source": [
        "x = tf.keras.layers.concatenate(encoded_features)\n",
        "x = tf.keras.layers.Dense(32, activation=\"relu\")(x)\n",
        "x = tf.keras.layers.Dense(8, activation=\"relu\")(x)\n",
        "x = tf.keras.layers.Dense(4, activation=\"relu\")(x)\n",
        "x = tf.keras.layers.Dense(2, activation=\"relu\")(x)\n",
        "outputs = tf.keras.layers.Dense(1, activation=\"sigmoid\")(x)\n",
        "model = tf.keras.Model(all_inputs,outputs)\n",
        "model.compile(\n",
        "    optimizer='adam',\n",
        "    loss=tf.keras.losses.BinaryCrossentropy(from_logits=False),\n",
        "    metrics=[\"accuracy\"]\n",
        ")"
      ],
      "metadata": {
        "id": "lp7cBZAnvaBp"
      },
      "execution_count": 13,
      "outputs": []
    },
    {
      "cell_type": "code",
      "source": [
        "tf.keras.utils.plot_model(model)"
      ],
      "metadata": {
        "colab": {
          "base_uri": "https://localhost:8080/",
          "height": 488
        },
        "id": "DLR-XRSTxBaz",
        "outputId": "9c9620d4-2ba2-4289-f04c-ceecfa612794"
      },
      "execution_count": 14,
      "outputs": [
        {
          "output_type": "execute_result",
          "data": {
            "text/plain": [
              "<IPython.core.display.Image object>"
            ],
            "image/png": "[encoded data removed]"
          },
          "metadata": {},
          "execution_count": 14
        }
      ]
    },
    {
      "cell_type": "markdown",
      "source": [
        "### Training the model"
      ],
      "metadata": {
        "id": "Y6tFBRkl4dKj"
      }
    },
    {
      "cell_type": "code",
      "source": [
        "history = model.fit(train_ds,validation_data=val_ds,epochs=50)"
      ],
      "metadata": {
        "colab": {
          "base_uri": "https://localhost:8080/"
        },
        "id": "NC7gkfVW4fuW",
        "outputId": "b45c3de9-bd36-4a86-c3f8-0ed1894b86b0"
      },
      "execution_count": 15,
      "outputs": [
        {
          "output_type": "stream",
          "name": "stdout",
          "text": [
            "Epoch 1/50\n"
          ]
        },
        {
          "output_type": "stream",
          "name": "stderr",
          "text": [
            "/usr/local/lib/python3.7/dist-packages/keras/engine/functional.py:559: UserWarning: Input dict contained keys ['target'] which did not match any model input. They will be ignored by the model.\n",
            "  inputs = self._flatten_to_reference_inputs(inputs)\n"
          ]
        },
        {
          "output_type": "stream",
          "name": "stdout",
          "text": [
            "51/51 [==============================] - 2s 11ms/step - loss: 0.7937 - accuracy: 0.4511 - val_loss: 0.6897 - val_accuracy: 0.5397\n",
            "Epoch 2/50\n",
            "51/51 [==============================] - 0s 4ms/step - loss: 0.6718 - accuracy: 0.6447 - val_loss: 0.6590 - val_accuracy: 0.6508\n",
            "Epoch 3/50\n",
            "51/51 [==============================] - 0s 3ms/step - loss: 0.6352 - accuracy: 0.7285 - val_loss: 0.6238 - val_accuracy: 0.6825\n",
            "Epoch 4/50\n",
            "51/51 [==============================] - 0s 4ms/step - loss: 0.5985 - accuracy: 0.7685 - val_loss: 0.5821 - val_accuracy: 0.7619\n",
            "Epoch 5/50\n",
            "51/51 [==============================] - 0s 4ms/step - loss: 0.5624 - accuracy: 0.8004 - val_loss: 0.5475 - val_accuracy: 0.8095\n",
            "Epoch 6/50\n",
            "51/51 [==============================] - 0s 8ms/step - loss: 0.5345 - accuracy: 0.8204 - val_loss: 0.5201 - val_accuracy: 0.8254\n",
            "Epoch 7/50\n",
            "51/51 [==============================] - 0s 8ms/step - loss: 0.5158 - accuracy: 0.8224 - val_loss: 0.4981 - val_accuracy: 0.8413\n",
            "Epoch 8/50\n",
            "51/51 [==============================] - 0s 9ms/step - loss: 0.4899 - accuracy: 0.8423 - val_loss: 0.4811 - val_accuracy: 0.8254\n",
            "Epoch 9/50\n",
            "51/51 [==============================] - 0s 8ms/step - loss: 0.4784 - accuracy: 0.8323 - val_loss: 0.4657 - val_accuracy: 0.8413\n",
            "Epoch 10/50\n",
            "51/51 [==============================] - 0s 8ms/step - loss: 0.4586 - accuracy: 0.8523 - val_loss: 0.4502 - val_accuracy: 0.8413\n",
            "Epoch 11/50\n",
            "51/51 [==============================] - 0s 8ms/step - loss: 0.4430 - accuracy: 0.8503 - val_loss: 0.4377 - val_accuracy: 0.8413\n",
            "Epoch 12/50\n",
            "51/51 [==============================] - 0s 6ms/step - loss: 0.4284 - accuracy: 0.8463 - val_loss: 0.4318 - val_accuracy: 0.8413\n",
            "Epoch 13/50\n",
            "51/51 [==============================] - 0s 8ms/step - loss: 0.4196 - accuracy: 0.8543 - val_loss: 0.4204 - val_accuracy: 0.8571\n",
            "Epoch 14/50\n",
            "51/51 [==============================] - 0s 9ms/step - loss: 0.4090 - accuracy: 0.8503 - val_loss: 0.4147 - val_accuracy: 0.8413\n",
            "Epoch 15/50\n",
            "51/51 [==============================] - 0s 8ms/step - loss: 0.3979 - accuracy: 0.8543 - val_loss: 0.4112 - val_accuracy: 0.8413\n",
            "Epoch 16/50\n",
            "51/51 [==============================] - 0s 6ms/step - loss: 0.3904 - accuracy: 0.8563 - val_loss: 0.3959 - val_accuracy: 0.8571\n",
            "Epoch 17/50\n",
            "51/51 [==============================] - 1s 10ms/step - loss: 0.3849 - accuracy: 0.8583 - val_loss: 0.3916 - val_accuracy: 0.8571\n",
            "Epoch 18/50\n",
            "51/51 [==============================] - 0s 8ms/step - loss: 0.3745 - accuracy: 0.8623 - val_loss: 0.3959 - val_accuracy: 0.8571\n",
            "Epoch 19/50\n",
            "51/51 [==============================] - 0s 10ms/step - loss: 0.3745 - accuracy: 0.8643 - val_loss: 0.4005 - val_accuracy: 0.8571\n",
            "Epoch 20/50\n",
            "51/51 [==============================] - 0s 8ms/step - loss: 0.3643 - accuracy: 0.8703 - val_loss: 0.3962 - val_accuracy: 0.8571\n",
            "Epoch 21/50\n",
            "51/51 [==============================] - 0s 9ms/step - loss: 0.3595 - accuracy: 0.8723 - val_loss: 0.3932 - val_accuracy: 0.8413\n",
            "Epoch 22/50\n",
            "51/51 [==============================] - 0s 6ms/step - loss: 0.3551 - accuracy: 0.8723 - val_loss: 0.3898 - val_accuracy: 0.8571\n",
            "Epoch 23/50\n",
            "51/51 [==============================] - 0s 7ms/step - loss: 0.3542 - accuracy: 0.8723 - val_loss: 0.3954 - val_accuracy: 0.8571\n",
            "Epoch 24/50\n",
            "51/51 [==============================] - 1s 15ms/step - loss: 0.3493 - accuracy: 0.8683 - val_loss: 0.3882 - val_accuracy: 0.8571\n",
            "Epoch 25/50\n",
            "51/51 [==============================] - 1s 10ms/step - loss: 0.3483 - accuracy: 0.8723 - val_loss: 0.3905 - val_accuracy: 0.8571\n",
            "Epoch 26/50\n",
            "51/51 [==============================] - 1s 10ms/step - loss: 0.3429 - accuracy: 0.8723 - val_loss: 0.3927 - val_accuracy: 0.8413\n",
            "Epoch 27/50\n",
            "51/51 [==============================] - 1s 11ms/step - loss: 0.3407 - accuracy: 0.8683 - val_loss: 0.4065 - val_accuracy: 0.8413\n",
            "Epoch 28/50\n",
            "51/51 [==============================] - 1s 11ms/step - loss: 0.3370 - accuracy: 0.8782 - val_loss: 0.3950 - val_accuracy: 0.8571\n",
            "Epoch 29/50\n",
            "51/51 [==============================] - 1s 11ms/step - loss: 0.3386 - accuracy: 0.8743 - val_loss: 0.3900 - val_accuracy: 0.8413\n",
            "Epoch 30/50\n",
            "51/51 [==============================] - 0s 8ms/step - loss: 0.3332 - accuracy: 0.8762 - val_loss: 0.3932 - val_accuracy: 0.8413\n",
            "Epoch 31/50\n",
            "51/51 [==============================] - 0s 8ms/step - loss: 0.3315 - accuracy: 0.8842 - val_loss: 0.3875 - val_accuracy: 0.8413\n",
            "Epoch 32/50\n",
            "51/51 [==============================] - 1s 13ms/step - loss: 0.3263 - accuracy: 0.8782 - val_loss: 0.3924 - val_accuracy: 0.8254\n",
            "Epoch 33/50\n",
            "51/51 [==============================] - 0s 8ms/step - loss: 0.3317 - accuracy: 0.8762 - val_loss: 0.4036 - val_accuracy: 0.8413\n",
            "Epoch 34/50\n",
            "51/51 [==============================] - 1s 9ms/step - loss: 0.3235 - accuracy: 0.8762 - val_loss: 0.3995 - val_accuracy: 0.8413\n",
            "Epoch 35/50\n",
            "51/51 [==============================] - 1s 11ms/step - loss: 0.3199 - accuracy: 0.8842 - val_loss: 0.4150 - val_accuracy: 0.8413\n",
            "Epoch 36/50\n",
            "51/51 [==============================] - 0s 9ms/step - loss: 0.3348 - accuracy: 0.8703 - val_loss: 0.4000 - val_accuracy: 0.8413\n",
            "Epoch 37/50\n",
            "51/51 [==============================] - 1s 10ms/step - loss: 0.3218 - accuracy: 0.8782 - val_loss: 0.4039 - val_accuracy: 0.8413\n",
            "Epoch 38/50\n",
            "51/51 [==============================] - 1s 11ms/step - loss: 0.3199 - accuracy: 0.8802 - val_loss: 0.3961 - val_accuracy: 0.8413\n",
            "Epoch 39/50\n",
            "51/51 [==============================] - 1s 10ms/step - loss: 0.3189 - accuracy: 0.8802 - val_loss: 0.3981 - val_accuracy: 0.8413\n",
            "Epoch 40/50\n",
            "51/51 [==============================] - 0s 9ms/step - loss: 0.3204 - accuracy: 0.8822 - val_loss: 0.4024 - val_accuracy: 0.8254\n",
            "Epoch 41/50\n",
            "51/51 [==============================] - 0s 8ms/step - loss: 0.3175 - accuracy: 0.8842 - val_loss: 0.4059 - val_accuracy: 0.8413\n",
            "Epoch 42/50\n",
            "51/51 [==============================] - 0s 8ms/step - loss: 0.3162 - accuracy: 0.8842 - val_loss: 0.4178 - val_accuracy: 0.8413\n",
            "Epoch 43/50\n",
            "51/51 [==============================] - 0s 7ms/step - loss: 0.3199 - accuracy: 0.8802 - val_loss: 0.4000 - val_accuracy: 0.8413\n",
            "Epoch 44/50\n",
            "51/51 [==============================] - 0s 4ms/step - loss: 0.3137 - accuracy: 0.8802 - val_loss: 0.4009 - val_accuracy: 0.8413\n",
            "Epoch 45/50\n",
            "51/51 [==============================] - 0s 4ms/step - loss: 0.3172 - accuracy: 0.8723 - val_loss: 0.4056 - val_accuracy: 0.8413\n",
            "Epoch 46/50\n",
            "51/51 [==============================] - 0s 4ms/step - loss: 0.3110 - accuracy: 0.8822 - val_loss: 0.4015 - val_accuracy: 0.8413\n",
            "Epoch 47/50\n",
            "51/51 [==============================] - 0s 4ms/step - loss: 0.3108 - accuracy: 0.8862 - val_loss: 0.4096 - val_accuracy: 0.8413\n",
            "Epoch 48/50\n",
            "51/51 [==============================] - 0s 4ms/step - loss: 0.3121 - accuracy: 0.8842 - val_loss: 0.4233 - val_accuracy: 0.8413\n",
            "Epoch 49/50\n",
            "51/51 [==============================] - 0s 4ms/step - loss: 0.3333 - accuracy: 0.8782 - val_loss: 0.4364 - val_accuracy: 0.8254\n",
            "Epoch 50/50\n",
            "51/51 [==============================] - 0s 4ms/step - loss: 0.3159 - accuracy: 0.8802 - val_loss: 0.4143 - val_accuracy: 0.8413\n"
          ]
        }
      ]
    },
    {
      "cell_type": "markdown",
      "source": [
        "### Ploting learing curves"
      ],
      "metadata": {
        "id": "p55M0Sj540pW"
      }
    },
    {
      "cell_type": "code",
      "source": [
        "history = history.history"
      ],
      "metadata": {
        "id": "y47Yge886Jbm"
      },
      "execution_count": 16,
      "outputs": []
    },
    {
      "cell_type": "code",
      "source": [
        "plt.figure(figsize=(15,5))\n",
        "plt.subplot(121)\n",
        "plt.title(\"Accuracy\")\n",
        "plt.plot(history[\"accuracy\"],label=\"train acc\")\n",
        "plt.plot(history[\"val_accuracy\"],label=\"val acc\")\n",
        "plt.legend()\n",
        "\n",
        "plt.subplot(122)\n",
        "plt.title(\"Loss\")\n",
        "plt.plot(history[\"loss\"],label=\"train loss\")\n",
        "plt.plot(history[\"val_loss\"],label=\"val loss\")\n",
        "plt.legend()\n",
        "\n",
        "plt.show()"
      ],
      "metadata": {
        "colab": {
          "base_uri": "https://localhost:8080/",
          "height": 336
        },
        "id": "4izsZIX66FDt",
        "outputId": "b11f4027-ee86-42a1-f701-251904677783"
      },
      "execution_count": 17,
      "outputs": [
        {
          "output_type": "display_data",
          "data": {
            "text/plain": [
              "<Figure size 1080x360 with 2 Axes>"
            ],
            "image/png": "[encoded data removed]"
          },
          "metadata": {
            "needs_background": "light"
          }
        }
      ]
    },
    {
      "cell_type": "markdown",
      "source": [
        "### Testing the model on test set"
      ],
      "metadata": {
        "id": "o5K6Yrel7FG4"
      }
    },
    {
      "cell_type": "code",
      "source": [
        "loss ,accuracy = model.evaluate(test_ds)"
      ],
      "metadata": {
        "colab": {
          "base_uri": "https://localhost:8080/"
        },
        "id": "TZa0DugZ7IUu",
        "outputId": "167de9e0-f6a5-4b8b-8cdc-f759d9b2f417"
      },
      "execution_count": 18,
      "outputs": [
        {
          "output_type": "stream",
          "name": "stdout",
          "text": [
            "7/7 [==============================] - 0s 3ms/step - loss: 0.6833 - accuracy: 0.7143\n"
          ]
        }
      ]
    },
    {
      "cell_type": "code",
      "source": [
        "print(\"test loss :\",loss)\n",
        "print(\"test accuracy :\",accuracy)"
      ],
      "metadata": {
        "colab": {
          "base_uri": "https://localhost:8080/"
        },
        "id": "2uQ0kUZV7KIJ",
        "outputId": "7358ba52-d9da-46a1-a0cf-48006bb3e437"
      },
      "execution_count": 19,
      "outputs": [
        {
          "output_type": "stream",
          "name": "stdout",
          "text": [
            "test loss : 0.68325275182724\n",
            "test accuracy : 0.7142857313156128\n"
          ]
        }
      ]
    }
  ]
}